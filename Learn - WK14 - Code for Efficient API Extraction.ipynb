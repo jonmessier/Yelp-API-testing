{
 "cells": [
  {
   "cell_type": "markdown",
   "id": "ce2105ce",
   "metadata": {},
   "source": [
    "# Code for efficient API extraction"
   ]
  },
  {
   "cell_type": "markdown",
   "id": "cc1ff811",
   "metadata": {},
   "source": [
    "## Imports"
   ]
  },
  {
   "cell_type": "code",
   "execution_count": 1,
   "id": "470492a2",
   "metadata": {},
   "outputs": [],
   "source": [
    "# Standard Imports\n",
    "import numpy as np\n",
    "import pandas as pd\n",
    "import matplotlib.pyplot as plt\n",
    "import seaborn as sns\n",
    "# Additional Imports\n",
    "import os, json, math, time\n",
    "from yelpapi import YelpAPI\n",
    "from tqdm.notebook import tqdm_notebook"
   ]
  },
  {
   "cell_type": "code",
   "execution_count": 2,
   "id": "7ef1f957",
   "metadata": {},
   "outputs": [],
   "source": [
    "# Load API Credentials\n",
    "with open('/Users/jonme/.secret/yelp_api.json') as f:   #use your path here!\n",
    "    login = json.load(f)\n",
    "# Instantiate YelpAPI Variable\n",
    "yelp_api = YelpAPI(login['api-key'], timeout_s=5.0)"
   ]
  },
  {
   "cell_type": "markdown",
   "id": "fb3c238a",
   "metadata": {},
   "source": [
    "To allow us to easily perform different searches in the future, we will define variables for LOCATION and TERM set for our particular search conditions. Then, when we want to use a different location or term, we can just redefine these variables. This streamlines the code and makes it more readable and reproducible. "
   ]
  },
  {
   "cell_type": "code",
   "execution_count": 3,
   "id": "469da04a",
   "metadata": {},
   "outputs": [],
   "source": [
    "# set our API call parameters \n",
    "LOCATION = 'NY,NY'\n",
    "TERM = 'Pizza'"
   ]
  },
  {
   "cell_type": "markdown",
   "id": "0f3cf6ec",
   "metadata": {},
   "source": [
    "**Create a results-in-progress JSON file, but only if it doesn't exist.**\n",
    "\n",
    "This is the file where your results will be saved. Note: you must rename your JSON_FILE for different queries to prevent confusing results from other searches. We recommend you include your search terms in the filename. "
   ]
  },
  {
   "cell_type": "code",
   "execution_count": 4,
   "id": "13a4fd6a",
   "metadata": {},
   "outputs": [
    {
     "data": {
      "text/plain": [
       "'Data/results_in_progress_NY_pizza.json'"
      ]
     },
     "execution_count": 4,
     "metadata": {},
     "output_type": "execute_result"
    }
   ],
   "source": [
    "# Specifying JSON_FILE filename (can include a folder)\n",
    "# include the search terms in the filename\n",
    "JSON_FILE = \"Data/results_in_progress_NY_pizza.json\"\n",
    "JSON_FILE"
   ]
  },
  {
   "cell_type": "markdown",
   "id": "ff77cf28",
   "metadata": {},
   "source": [
    " Check if our JSON_FILE already exists. This will prevent us from accidentally overwriting an existing file.\n",
    "\n",
    "If it doesn't exist:\n",
    "\n",
    "-   Create any folders needed for the file path.\n",
    "-   Save an empty list as JSON_File"
   ]
  },
  {
   "cell_type": "code",
   "execution_count": 5,
   "id": "83a3013c",
   "metadata": {},
   "outputs": [
    {
     "name": "stdout",
     "output_type": "stream",
     "text": [
      "[i] Data/results_in_progress_NY_pizza.json already exists.\n"
     ]
    }
   ],
   "source": [
    "## Check if JSON_FILE exists\n",
    "file_exists = os.path.isfile(JSON_FILE)\n",
    "## If it does not exist: \n",
    "if file_exists == False:\n",
    "    \n",
    "    ## CREATE ANY NEEDED FOLDERS\n",
    "    # Get the Folder Name only\n",
    "    folder = os.path.dirname(JSON_FILE)\n",
    "    ## If JSON_FILE included a folder:\n",
    "    if len(folder)>0:\n",
    "        # create the folder\n",
    "        os.makedirs(folder,exist_ok=True)\n",
    "        \n",
    "        \n",
    "    ## INFORM USER AND SAVE EMPTY LIST\n",
    "    print(f'[i] {JSON_FILE} not found. Saving empty list to file.')\n",
    "    \n",
    "    \n",
    "    # save an empty list\n",
    "    with open(JSON_FILE,'w') as f:\n",
    "        json.dump([],f)  \n",
    "# If it exists, inform user\n",
    "else:\n",
    "    print(f\"[i] {JSON_FILE} already exists.\")"
   ]
  },
  {
   "cell_type": "markdown",
   "id": "a3875ccc",
   "metadata": {},
   "source": [
    "**Determine how many results are already in the file**\n",
    "\n",
    "Load the results file to determine the # of results we have previously retrieved. If you just created the file, you would expect it to be empty.\n",
    "\n",
    "We will use this as our offset parameter for our API call. Even if this is your first API call, and the number is 0, we want to define \"n_results\" based on the length of \"previous_results.\" "
   ]
  },
  {
   "cell_type": "code",
   "execution_count": 6,
   "id": "1e646871",
   "metadata": {},
   "outputs": [
    {
     "name": "stdout",
     "output_type": "stream",
     "text": [
      "- 20 previous results found.\n"
     ]
    }
   ],
   "source": [
    "## Load previous results and use len of results for offset\n",
    "with open(JSON_FILE,'r') as f:\n",
    "    previous_results = json.load(f)\n",
    "    \n",
    "## set offset based on previous results\n",
    "n_results = len(previous_results)\n",
    "print(f'- {n_results} previous results found.')"
   ]
  },
  {
   "cell_type": "markdown",
   "id": "d9b7cd60",
   "metadata": {},
   "source": [
    "**Figure out how many pages of results we will need**\n",
    "\n",
    "We will perform our first query to get our first page of results and the total number of results. We will then (via code) calculate how many pages we will need to retrieve all of our results."
   ]
  },
  {
   "cell_type": "code",
   "execution_count": 7,
   "id": "e0ad0c36",
   "metadata": {},
   "outputs": [
    {
     "data": {
      "text/plain": [
       "dict_keys(['businesses', 'total', 'region'])"
      ]
     },
     "execution_count": 7,
     "metadata": {},
     "output_type": "execute_result"
    }
   ],
   "source": [
    "# use our yelp_api variable's search_query method to perform our API call\n",
    "results = yelp_api.search_query(location=LOCATION,\n",
    "                                term=TERM,\n",
    "                               offset=n_results)\n",
    "results.keys()"
   ]
  },
  {
   "cell_type": "code",
   "execution_count": 8,
   "id": "1181c2b0",
   "metadata": {},
   "outputs": [
    {
     "data": {
      "text/plain": [
       "15500"
      ]
     },
     "execution_count": 8,
     "metadata": {},
     "output_type": "execute_result"
    }
   ],
   "source": [
    "## How many results total?\n",
    "total_results = results['total']\n",
    "total_results"
   ]
  },
  {
   "cell_type": "code",
   "execution_count": 9,
   "id": "c74f9b5c",
   "metadata": {},
   "outputs": [
    {
     "data": {
      "text/plain": [
       "20"
      ]
     },
     "execution_count": 9,
     "metadata": {},
     "output_type": "execute_result"
    }
   ],
   "source": [
    "## How many did we get the details for?\n",
    "results_per_page = len(results['businesses'])\n",
    "results_per_page"
   ]
  },
  {
   "cell_type": "markdown",
   "id": "bb01a6e9",
   "metadata": {},
   "source": [
    "There are over 16200 businesses to retrieve from our API and we can get 20 results at a time (per \"page\").\n",
    "\n",
    "-   We can calculate the # of results remaining by subtracting our offset (length of our previous results) from our total.\n",
    "-   Then we can determining how many pages we will need by dividing the results by 20 (or whatever the value happens to be for results per page)\n",
    "-   Note that we need to round up the number of pages in order to get all of the results. Even if there is only 1 result on the last page, we want to include that page! To do this we will use `math.ceil`.\n"
   ]
  },
  {
   "cell_type": "code",
   "execution_count": 10,
   "id": "d83b666b",
   "metadata": {
    "scrolled": true
   },
   "outputs": [
    {
     "data": {
      "text/plain": [
       "774"
      ]
     },
     "execution_count": 10,
     "metadata": {},
     "output_type": "execute_result"
    }
   ],
   "source": [
    "# Import additional packages for controlling our loop\n",
    "import time, math\n",
    "# Use math.ceil to round up for the total number of pages of results.\n",
    "n_pages = math.ceil((results['total']-n_results)/ results_per_page)\n",
    "n_pages\n"
   ]
  },
  {
   "cell_type": "code",
   "execution_count": 11,
   "id": "d21218ca",
   "metadata": {},
   "outputs": [],
   "source": [
    "# join new results with old list with extend and save to file\n",
    "previous_results.extend(results['businesses'])  \n",
    "with open(JSON_FILE,'w') as f:\n",
    "     json.dump(previous_results,f)"
   ]
  },
  {
   "cell_type": "markdown",
   "id": "9215c703",
   "metadata": {},
   "source": []
  },
  {
   "cell_type": "code",
   "execution_count": 12,
   "id": "a361ba11",
   "metadata": {
    "scrolled": true
   },
   "outputs": [
    {
     "data": {
      "application/vnd.jupyter.widget-view+json": {
       "model_id": "3061d90e8caf434eb857f52556c11568",
       "version_major": 2,
       "version_minor": 0
      },
      "text/plain": [
       "  0%|          | 0/774 [00:00<?, ?it/s]"
      ]
     },
     "metadata": {},
     "output_type": "display_data"
    },
    {
     "ename": "YelpAPIError",
     "evalue": "VALIDATION_ERROR: Too many results requested, limit+offset must be <= 1000.",
     "output_type": "error",
     "traceback": [
      "\u001b[1;31m---------------------------------------------------------------------------\u001b[0m",
      "\u001b[1;31mYelpAPIError\u001b[0m                              Traceback (most recent call last)",
      "Cell \u001b[1;32mIn [12], line 11\u001b[0m\n\u001b[0;32m      9\u001b[0m n_results \u001b[38;5;241m=\u001b[39m \u001b[38;5;28mlen\u001b[39m(previous_results)\n\u001b[0;32m     10\u001b[0m \u001b[38;5;66;03m## use n_results as the OFFSET \u001b[39;00m\n\u001b[1;32m---> 11\u001b[0m results \u001b[38;5;241m=\u001b[39m \u001b[43myelp_api\u001b[49m\u001b[38;5;241;43m.\u001b[39;49m\u001b[43msearch_query\u001b[49m\u001b[43m(\u001b[49m\u001b[43mlocation\u001b[49m\u001b[38;5;241;43m=\u001b[39;49m\u001b[43mLOCATION\u001b[49m\u001b[43m,\u001b[49m\n\u001b[0;32m     12\u001b[0m \u001b[43m                                \u001b[49m\u001b[43mterm\u001b[49m\u001b[38;5;241;43m=\u001b[39;49m\u001b[43mTERM\u001b[49m\u001b[43m,\u001b[49m\u001b[43m \u001b[49m\n\u001b[0;32m     13\u001b[0m \u001b[43m                                \u001b[49m\u001b[43moffset\u001b[49m\u001b[38;5;241;43m=\u001b[39;49m\u001b[43mn_results\u001b[49m\u001b[43m)\u001b[49m\n\u001b[0;32m     15\u001b[0m \u001b[38;5;66;03m## append new results and save to file\u001b[39;00m\n\u001b[0;32m     16\u001b[0m previous_results\u001b[38;5;241m.\u001b[39mextend(results[\u001b[38;5;124m'\u001b[39m\u001b[38;5;124mbusinesses\u001b[39m\u001b[38;5;124m'\u001b[39m])\n",
      "File \u001b[1;32m~\\anaconda3\\envs\\dojo-env\\lib\\site-packages\\yelpapi\\yelpapi.py:251\u001b[0m, in \u001b[0;36mYelpAPI.search_query\u001b[1;34m(self, **kwargs)\u001b[0m\n\u001b[0;32m    247\u001b[0m \u001b[38;5;28;01mif\u001b[39;00m \u001b[38;5;129;01mnot\u001b[39;00m kwargs\u001b[38;5;241m.\u001b[39mget(\u001b[38;5;124m'\u001b[39m\u001b[38;5;124mlocation\u001b[39m\u001b[38;5;124m'\u001b[39m) \u001b[38;5;129;01mand\u001b[39;00m (\u001b[38;5;129;01mnot\u001b[39;00m kwargs\u001b[38;5;241m.\u001b[39mget(\u001b[38;5;124m'\u001b[39m\u001b[38;5;124mlatitude\u001b[39m\u001b[38;5;124m'\u001b[39m) \u001b[38;5;129;01mor\u001b[39;00m \u001b[38;5;129;01mnot\u001b[39;00m kwargs\u001b[38;5;241m.\u001b[39mget(\u001b[38;5;124m'\u001b[39m\u001b[38;5;124mlongitude\u001b[39m\u001b[38;5;124m'\u001b[39m)):\n\u001b[0;32m    248\u001b[0m     \u001b[38;5;28;01mraise\u001b[39;00m \u001b[38;5;167;01mValueError\u001b[39;00m(\u001b[38;5;124m'\u001b[39m\u001b[38;5;124mA valid location (parameter \u001b[39m\u001b[38;5;124m\"\u001b[39m\u001b[38;5;124mlocation\u001b[39m\u001b[38;5;124m\"\u001b[39m\u001b[38;5;124m) or latitude/longitude combination \u001b[39m\u001b[38;5;124m'\u001b[39m\n\u001b[0;32m    249\u001b[0m                      \u001b[38;5;124m'\u001b[39m\u001b[38;5;124m(parameters \u001b[39m\u001b[38;5;124m\"\u001b[39m\u001b[38;5;124mlatitude\u001b[39m\u001b[38;5;124m\"\u001b[39m\u001b[38;5;124m and \u001b[39m\u001b[38;5;124m\"\u001b[39m\u001b[38;5;124mlongitude\u001b[39m\u001b[38;5;124m\"\u001b[39m\u001b[38;5;124m) must be provided.\u001b[39m\u001b[38;5;124m'\u001b[39m)\n\u001b[1;32m--> 251\u001b[0m \u001b[38;5;28;01mreturn\u001b[39;00m \u001b[38;5;28mself\u001b[39m\u001b[38;5;241m.\u001b[39m_query(SEARCH_API_URL, \u001b[38;5;241m*\u001b[39m\u001b[38;5;241m*\u001b[39mkwargs)\n",
      "File \u001b[1;32m~\\anaconda3\\envs\\dojo-env\\lib\\site-packages\\yelpapi\\yelpapi.py:299\u001b[0m, in \u001b[0;36mYelpAPI._query\u001b[1;34m(self, url, **kwargs)\u001b[0m\n\u001b[0;32m    295\u001b[0m \u001b[38;5;66;03m# Yelp can return one of many different API errors, so check for one of them.\u001b[39;00m\n\u001b[0;32m    296\u001b[0m \u001b[38;5;66;03m# The Yelp Fusion API does not yet have a complete list of errors, but this is on the TODO list; see\u001b[39;00m\n\u001b[0;32m    297\u001b[0m \u001b[38;5;66;03m# https://github.com/Yelp/yelp-fusion/issues/95 for more info.\u001b[39;00m\n\u001b[0;32m    298\u001b[0m \u001b[38;5;28;01mif\u001b[39;00m \u001b[38;5;124m'\u001b[39m\u001b[38;5;124merror\u001b[39m\u001b[38;5;124m'\u001b[39m \u001b[38;5;129;01min\u001b[39;00m response_json:\n\u001b[1;32m--> 299\u001b[0m     \u001b[38;5;28;01mraise\u001b[39;00m YelpAPI\u001b[38;5;241m.\u001b[39mYelpAPIError(\u001b[38;5;124m'\u001b[39m\u001b[38;5;132;01m{}\u001b[39;00m\u001b[38;5;124m: \u001b[39m\u001b[38;5;132;01m{}\u001b[39;00m\u001b[38;5;124m'\u001b[39m\u001b[38;5;241m.\u001b[39mformat(response_json[\u001b[38;5;124m'\u001b[39m\u001b[38;5;124merror\u001b[39m\u001b[38;5;124m'\u001b[39m][\u001b[38;5;124m'\u001b[39m\u001b[38;5;124mcode\u001b[39m\u001b[38;5;124m'\u001b[39m],\n\u001b[0;32m    300\u001b[0m                                                response_json[\u001b[38;5;124m'\u001b[39m\u001b[38;5;124merror\u001b[39m\u001b[38;5;124m'\u001b[39m][\u001b[38;5;124m'\u001b[39m\u001b[38;5;124mdescription\u001b[39m\u001b[38;5;124m'\u001b[39m]))\n\u001b[0;32m    302\u001b[0m \u001b[38;5;66;03m# we got a good response, so return\u001b[39;00m\n\u001b[0;32m    303\u001b[0m \u001b[38;5;28;01mreturn\u001b[39;00m response_json\n",
      "\u001b[1;31mYelpAPIError\u001b[0m: VALIDATION_ERROR: Too many results requested, limit+offset must be <= 1000."
     ]
    }
   ],
   "source": [
    "from tqdm.notebook import tqdm_notebook\n",
    "import time\n",
    "for i in tqdm_notebook( range(1,n_pages+1)):\n",
    "    \n",
    "    ## Read in results in progress file and check the length\n",
    "    with open(JSON_FILE, 'r') as f:\n",
    "        previous_results = json.load(f)\n",
    "    ## save number of results for to use as offset\n",
    "    n_results = len(previous_results)\n",
    "    ## use n_results as the OFFSET \n",
    "    results = yelp_api.search_query(location=LOCATION,\n",
    "                                    term=TERM, \n",
    "                                    offset=n_results)\n",
    "    \n",
    "    ## append new results and save to file\n",
    "    previous_results.extend(results['businesses'])\n",
    "    \n",
    "    with open(JSON_FILE,'w') as f:\n",
    "        json.dump(previous_results,f)\n",
    "    \n",
    "    # add a 200ms pause\n",
    "    time.sleep(.2)"
   ]
  },
  {
   "cell_type": "code",
   "execution_count": 13,
   "id": "d81e5c4f",
   "metadata": {
    "scrolled": true
   },
   "outputs": [
    {
     "data": {
      "text/plain": [
       "False"
      ]
     },
     "execution_count": 13,
     "metadata": {},
     "output_type": "execute_result"
    }
   ],
   "source": [
    "## delete file and confirm it no longer exits.\n",
    "os.remove(JSON_FILE)\n",
    "os.path.isfile(JSON_FILE)"
   ]
  },
  {
   "cell_type": "code",
   "execution_count": 14,
   "id": "804338a7",
   "metadata": {},
   "outputs": [],
   "source": [
    "def create_json_file(JSON_FILE,  delete_if_exists=False):\n",
    "    ## Check if JSON_FILE exists\n",
    "    file_exists = os.path.isfile(JSON_FILE)\n",
    "    \n",
    "    ## If it DOES exist:\n",
    "    if file_exists == True:\n",
    "        \n",
    "        ## Check if user wants to delete if exists\n",
    "        if delete_if_exists==True:         \n",
    "            print(f\"[!] {JSON_FILE} already exists. Deleting previous file...\")\n",
    "            ## delete file and confirm it no longer exits.\n",
    "            os.remove(JSON_FILE)\n",
    "            ## Recursive call to function after old file deleted\n",
    "            create_json_file(JSON_FILE,delete_if_exists=False)\n",
    "        else:\n",
    "            print(f\"[i] {JSON_FILE} already exists.\")            \n",
    "                  \n",
    "    ## If it does NOT exist:\n",
    "    else:    \n",
    "        ## INFORM USER AND SAVE EMPTY LIST\n",
    "        print(f\"[i] {JSON_FILE} not found. Saving empty list to new file.\")\n",
    "        \n",
    "        ## CREATE ANY NEEDED FOLDERS\n",
    "        # Get the Folder Name only\n",
    "        folder = os.path.dirname(JSON_FILE)\n",
    "        \n",
    "        ## If JSON_FILE included a folder:\n",
    "        if len(folder)>0:\n",
    "            # create the folder\n",
    "            os.makedirs(folder,exist_ok=True)\n",
    "        ## Save empty list to start the json file\n",
    "        with open(JSON_FILE,'w') as f:\n",
    "            json.dump([],f)  \n"
   ]
  },
  {
   "cell_type": "code",
   "execution_count": 15,
   "id": "a3133edb",
   "metadata": {
    "scrolled": true
   },
   "outputs": [
    {
     "name": "stdout",
     "output_type": "stream",
     "text": [
      "[i] Data/results_in_progress_NY_pizza.json not found. Saving empty list to new file.\n",
      "- 0 previous results found.\n"
     ]
    },
    {
     "data": {
      "text/plain": [
       "770"
      ]
     },
     "execution_count": 15,
     "metadata": {},
     "output_type": "execute_result"
    }
   ],
   "source": [
    "## Create a new empty json file (exist the previous if it exists)\n",
    "create_json_file(JSON_FILE, delete_if_exists=True)\n",
    "## Load previous results and use len of results for offset\n",
    "with open(JSON_FILE,'r') as f:\n",
    "    previous_results = json.load(f)\n",
    "    \n",
    "## set offset based on previous results\n",
    "n_results = len(previous_results)\n",
    "print(f'- {n_results} previous results found.')\n",
    "# use our yelp_api variable's search_query method to perform our API call\n",
    "results = yelp_api.search_query(location=LOCATION,\n",
    "                                term=TERM,\n",
    "                               offset=n_results)\n",
    "## How many results total?\n",
    "total_results = results['total']\n",
    "## How many did we get the details for?\n",
    "results_per_page = len(results['businesses'])\n",
    "# Use math.ceil to round up for the total number of pages of results.\n",
    "n_pages = math.ceil((results['total']-n_results)/ results_per_page)\n",
    "n_pages"
   ]
  },
  {
   "cell_type": "code",
   "execution_count": 16,
   "id": "518ae1f8",
   "metadata": {},
   "outputs": [
    {
     "data": {
      "application/vnd.jupyter.widget-view+json": {
       "model_id": "c99e53d8d16f423081ba1af9e77cdbd3",
       "version_major": 2,
       "version_minor": 0
      },
      "text/plain": [
       "  0%|          | 0/770 [00:00<?, ?it/s]"
      ]
     },
     "metadata": {},
     "output_type": "display_data"
    },
    {
     "name": "stdout",
     "output_type": "stream",
     "text": [
      "Exceeded 1000 api calls. Stopping loop.\n"
     ]
    }
   ],
   "source": [
    "for i in tqdm_notebook( range(1,n_pages+1)):\n",
    "    ## Read in results in progress file and check the length\n",
    "    with open(JSON_FILE, 'r') as f:\n",
    "        previous_results = json.load(f)\n",
    "    ## save number of results for to use as offset\n",
    "    n_results = len(previous_results)\n",
    "    \n",
    "    if (n_results + results_per_page) > 1000:\n",
    "        print('Exceeded 1000 api calls. Stopping loop.')\n",
    "        break\n",
    "    \n",
    "    ## use n_results as the OFFSET \n",
    "    results = yelp_api.search_query(location=LOCATION,\n",
    "                                    term=TERM, \n",
    "                                    offset=n_results)\n",
    "    ## append new results and save to file\n",
    "    previous_results.extend(results['businesses'])\n",
    "    \n",
    "    # display(previous_results)\n",
    "    with open(JSON_FILE,'w') as f:\n",
    "        json.dump(previous_results,f)\n",
    "    \n",
    "    time.sleep(.2)"
   ]
  },
  {
   "cell_type": "code",
   "execution_count": 17,
   "id": "e6e1163c",
   "metadata": {},
   "outputs": [
    {
     "data": {
      "text/html": [
       "<div>\n",
       "<style scoped>\n",
       "    .dataframe tbody tr th:only-of-type {\n",
       "        vertical-align: middle;\n",
       "    }\n",
       "\n",
       "    .dataframe tbody tr th {\n",
       "        vertical-align: top;\n",
       "    }\n",
       "\n",
       "    .dataframe thead th {\n",
       "        text-align: right;\n",
       "    }\n",
       "</style>\n",
       "<table border=\"1\" class=\"dataframe\">\n",
       "  <thead>\n",
       "    <tr style=\"text-align: right;\">\n",
       "      <th></th>\n",
       "      <th>id</th>\n",
       "      <th>alias</th>\n",
       "      <th>name</th>\n",
       "      <th>image_url</th>\n",
       "      <th>is_closed</th>\n",
       "      <th>url</th>\n",
       "      <th>review_count</th>\n",
       "      <th>categories</th>\n",
       "      <th>rating</th>\n",
       "      <th>coordinates</th>\n",
       "      <th>transactions</th>\n",
       "      <th>price</th>\n",
       "      <th>location</th>\n",
       "      <th>phone</th>\n",
       "      <th>display_phone</th>\n",
       "      <th>distance</th>\n",
       "    </tr>\n",
       "  </thead>\n",
       "  <tbody>\n",
       "    <tr>\n",
       "      <th>0</th>\n",
       "      <td>zj8Lq1T8KIC5zwFief15jg</td>\n",
       "      <td>prince-street-pizza-new-york-2</td>\n",
       "      <td>Prince Street Pizza</td>\n",
       "      <td>https://s3-media2.fl.yelpcdn.com/bphoto/I4gm7i...</td>\n",
       "      <td>False</td>\n",
       "      <td>https://www.yelp.com/biz/prince-street-pizza-n...</td>\n",
       "      <td>4786</td>\n",
       "      <td>[{'alias': 'pizza', 'title': 'Pizza'}, {'alias...</td>\n",
       "      <td>4.5</td>\n",
       "      <td>{'latitude': 40.72308755605564, 'longitude': -...</td>\n",
       "      <td>[delivery, pickup]</td>\n",
       "      <td>$</td>\n",
       "      <td>{'address1': '27 Prince St', 'address2': None,...</td>\n",
       "      <td>+12129664100</td>\n",
       "      <td>(212) 966-4100</td>\n",
       "      <td>2209.311618</td>\n",
       "    </tr>\n",
       "    <tr>\n",
       "      <th>1</th>\n",
       "      <td>ysqgdbSrezXgVwER2kQWKA</td>\n",
       "      <td>julianas-brooklyn-3</td>\n",
       "      <td>Juliana's</td>\n",
       "      <td>https://s3-media2.fl.yelpcdn.com/bphoto/NVoLFl...</td>\n",
       "      <td>False</td>\n",
       "      <td>https://www.yelp.com/biz/julianas-brooklyn-3?a...</td>\n",
       "      <td>2607</td>\n",
       "      <td>[{'alias': 'pizza', 'title': 'Pizza'}]</td>\n",
       "      <td>4.5</td>\n",
       "      <td>{'latitude': 40.70274718768062, 'longitude': -...</td>\n",
       "      <td>[delivery]</td>\n",
       "      <td>$$</td>\n",
       "      <td>{'address1': '19 Old Fulton St', 'address2': '...</td>\n",
       "      <td>+17185966700</td>\n",
       "      <td>(718) 596-6700</td>\n",
       "      <td>1289.857286</td>\n",
       "    </tr>\n",
       "    <tr>\n",
       "      <th>2</th>\n",
       "      <td>WG639VkTjmK5dzydd1BBJA</td>\n",
       "      <td>rubirosa-new-york-2</td>\n",
       "      <td>Rubirosa</td>\n",
       "      <td>https://s3-media3.fl.yelpcdn.com/bphoto/F65qqO...</td>\n",
       "      <td>False</td>\n",
       "      <td>https://www.yelp.com/biz/rubirosa-new-york-2?a...</td>\n",
       "      <td>2917</td>\n",
       "      <td>[{'alias': 'italian', 'title': 'Italian'}, {'a...</td>\n",
       "      <td>4.5</td>\n",
       "      <td>{'latitude': 40.722766, 'longitude': -73.996233}</td>\n",
       "      <td>[pickup]</td>\n",
       "      <td>$$</td>\n",
       "      <td>{'address1': '235 Mulberry St', 'address2': ''...</td>\n",
       "      <td>+12129650500</td>\n",
       "      <td>(212) 965-0500</td>\n",
       "      <td>2268.491950</td>\n",
       "    </tr>\n",
       "    <tr>\n",
       "      <th>3</th>\n",
       "      <td>uc5qQMzs96rzjK27epDCug</td>\n",
       "      <td>joes-pizza-new-york-4</td>\n",
       "      <td>Joe's Pizza</td>\n",
       "      <td>https://s3-media4.fl.yelpcdn.com/bphoto/1TvTRG...</td>\n",
       "      <td>False</td>\n",
       "      <td>https://www.yelp.com/biz/joes-pizza-new-york-4...</td>\n",
       "      <td>2975</td>\n",
       "      <td>[{'alias': 'pizza', 'title': 'Pizza'}]</td>\n",
       "      <td>4.0</td>\n",
       "      <td>{'latitude': 40.73060076, 'longitude': -74.002...</td>\n",
       "      <td>[delivery]</td>\n",
       "      <td>$</td>\n",
       "      <td>{'address1': '7 Carmine St', 'address2': '', '...</td>\n",
       "      <td>+12123661182</td>\n",
       "      <td>(212) 366-1182</td>\n",
       "      <td>3263.174143</td>\n",
       "    </tr>\n",
       "    <tr>\n",
       "      <th>4</th>\n",
       "      <td>KEEXuHCYhsQJ-zpJhu98bA</td>\n",
       "      <td>joes-pizza-new-york-148</td>\n",
       "      <td>Joe's Pizza</td>\n",
       "      <td>https://s3-media1.fl.yelpcdn.com/bphoto/VkqlwR...</td>\n",
       "      <td>False</td>\n",
       "      <td>https://www.yelp.com/biz/joes-pizza-new-york-1...</td>\n",
       "      <td>1785</td>\n",
       "      <td>[{'alias': 'pizza', 'title': 'Pizza'}]</td>\n",
       "      <td>4.0</td>\n",
       "      <td>{'latitude': 40.7547, 'longitude': -73.98696}</td>\n",
       "      <td>[delivery, pickup]</td>\n",
       "      <td>$</td>\n",
       "      <td>{'address1': '1435 Broadway', 'address2': '', ...</td>\n",
       "      <td>+16465594878</td>\n",
       "      <td>(646) 559-4878</td>\n",
       "      <td>5345.192429</td>\n",
       "    </tr>\n",
       "  </tbody>\n",
       "</table>\n",
       "</div>"
      ],
      "text/plain": [
       "                       id                           alias  \\\n",
       "0  zj8Lq1T8KIC5zwFief15jg  prince-street-pizza-new-york-2   \n",
       "1  ysqgdbSrezXgVwER2kQWKA             julianas-brooklyn-3   \n",
       "2  WG639VkTjmK5dzydd1BBJA             rubirosa-new-york-2   \n",
       "3  uc5qQMzs96rzjK27epDCug           joes-pizza-new-york-4   \n",
       "4  KEEXuHCYhsQJ-zpJhu98bA         joes-pizza-new-york-148   \n",
       "\n",
       "                  name                                          image_url  \\\n",
       "0  Prince Street Pizza  https://s3-media2.fl.yelpcdn.com/bphoto/I4gm7i...   \n",
       "1            Juliana's  https://s3-media2.fl.yelpcdn.com/bphoto/NVoLFl...   \n",
       "2             Rubirosa  https://s3-media3.fl.yelpcdn.com/bphoto/F65qqO...   \n",
       "3          Joe's Pizza  https://s3-media4.fl.yelpcdn.com/bphoto/1TvTRG...   \n",
       "4          Joe's Pizza  https://s3-media1.fl.yelpcdn.com/bphoto/VkqlwR...   \n",
       "\n",
       "   is_closed                                                url  review_count  \\\n",
       "0      False  https://www.yelp.com/biz/prince-street-pizza-n...          4786   \n",
       "1      False  https://www.yelp.com/biz/julianas-brooklyn-3?a...          2607   \n",
       "2      False  https://www.yelp.com/biz/rubirosa-new-york-2?a...          2917   \n",
       "3      False  https://www.yelp.com/biz/joes-pizza-new-york-4...          2975   \n",
       "4      False  https://www.yelp.com/biz/joes-pizza-new-york-1...          1785   \n",
       "\n",
       "                                          categories  rating  \\\n",
       "0  [{'alias': 'pizza', 'title': 'Pizza'}, {'alias...     4.5   \n",
       "1             [{'alias': 'pizza', 'title': 'Pizza'}]     4.5   \n",
       "2  [{'alias': 'italian', 'title': 'Italian'}, {'a...     4.5   \n",
       "3             [{'alias': 'pizza', 'title': 'Pizza'}]     4.0   \n",
       "4             [{'alias': 'pizza', 'title': 'Pizza'}]     4.0   \n",
       "\n",
       "                                         coordinates        transactions  \\\n",
       "0  {'latitude': 40.72308755605564, 'longitude': -...  [delivery, pickup]   \n",
       "1  {'latitude': 40.70274718768062, 'longitude': -...          [delivery]   \n",
       "2   {'latitude': 40.722766, 'longitude': -73.996233}            [pickup]   \n",
       "3  {'latitude': 40.73060076, 'longitude': -74.002...          [delivery]   \n",
       "4      {'latitude': 40.7547, 'longitude': -73.98696}  [delivery, pickup]   \n",
       "\n",
       "  price                                           location         phone  \\\n",
       "0     $  {'address1': '27 Prince St', 'address2': None,...  +12129664100   \n",
       "1    $$  {'address1': '19 Old Fulton St', 'address2': '...  +17185966700   \n",
       "2    $$  {'address1': '235 Mulberry St', 'address2': ''...  +12129650500   \n",
       "3     $  {'address1': '7 Carmine St', 'address2': '', '...  +12123661182   \n",
       "4     $  {'address1': '1435 Broadway', 'address2': '', ...  +16465594878   \n",
       "\n",
       "    display_phone     distance  \n",
       "0  (212) 966-4100  2209.311618  \n",
       "1  (718) 596-6700  1289.857286  \n",
       "2  (212) 965-0500  2268.491950  \n",
       "3  (212) 366-1182  3263.174143  \n",
       "4  (646) 559-4878  5345.192429  "
      ]
     },
     "metadata": {},
     "output_type": "display_data"
    },
    {
     "data": {
      "text/html": [
       "<div>\n",
       "<style scoped>\n",
       "    .dataframe tbody tr th:only-of-type {\n",
       "        vertical-align: middle;\n",
       "    }\n",
       "\n",
       "    .dataframe tbody tr th {\n",
       "        vertical-align: top;\n",
       "    }\n",
       "\n",
       "    .dataframe thead th {\n",
       "        text-align: right;\n",
       "    }\n",
       "</style>\n",
       "<table border=\"1\" class=\"dataframe\">\n",
       "  <thead>\n",
       "    <tr style=\"text-align: right;\">\n",
       "      <th></th>\n",
       "      <th>id</th>\n",
       "      <th>alias</th>\n",
       "      <th>name</th>\n",
       "      <th>image_url</th>\n",
       "      <th>is_closed</th>\n",
       "      <th>url</th>\n",
       "      <th>review_count</th>\n",
       "      <th>categories</th>\n",
       "      <th>rating</th>\n",
       "      <th>coordinates</th>\n",
       "      <th>transactions</th>\n",
       "      <th>price</th>\n",
       "      <th>location</th>\n",
       "      <th>phone</th>\n",
       "      <th>display_phone</th>\n",
       "      <th>distance</th>\n",
       "    </tr>\n",
       "  </thead>\n",
       "  <tbody>\n",
       "    <tr>\n",
       "      <th>995</th>\n",
       "      <td>aXuBZ6tBe93MHNtEIWNDCQ</td>\n",
       "      <td>calabria-pizza-oradell-2</td>\n",
       "      <td>Calabria Pizza</td>\n",
       "      <td>https://s3-media3.fl.yelpcdn.com/bphoto/5V7YbI...</td>\n",
       "      <td>False</td>\n",
       "      <td>https://www.yelp.com/biz/calabria-pizza-oradel...</td>\n",
       "      <td>124</td>\n",
       "      <td>[{'alias': 'pizza', 'title': 'Pizza'}, {'alias...</td>\n",
       "      <td>4.0</td>\n",
       "      <td>{'latitude': 40.948291, 'longitude': -74.0321582}</td>\n",
       "      <td>[pickup, delivery]</td>\n",
       "      <td>$</td>\n",
       "      <td>{'address1': '239 Kinderkamack Rd', 'address2'...</td>\n",
       "      <td>+12015239228</td>\n",
       "      <td>(201) 523-9228</td>\n",
       "      <td>27200.412919</td>\n",
       "    </tr>\n",
       "    <tr>\n",
       "      <th>996</th>\n",
       "      <td>qs5x7OfTtpgQ4xQeN7N4Iw</td>\n",
       "      <td>saraghina-caffè-brooklyn-2</td>\n",
       "      <td>Saraghina Caffè</td>\n",
       "      <td>https://s3-media1.fl.yelpcdn.com/bphoto/a2qEDF...</td>\n",
       "      <td>False</td>\n",
       "      <td>https://www.yelp.com/biz/saraghina-caff%C3%A8-...</td>\n",
       "      <td>46</td>\n",
       "      <td>[{'alias': 'italian', 'title': 'Italian'}, {'a...</td>\n",
       "      <td>3.0</td>\n",
       "      <td>{'latitude': 40.6897188, 'longitude': -73.9719...</td>\n",
       "      <td>[]</td>\n",
       "      <td>NaN</td>\n",
       "      <td>{'address1': '195 DeKalb Ave, Brooklyn, NY 112...</td>\n",
       "      <td>+17183274224</td>\n",
       "      <td>(718) 327-4224</td>\n",
       "      <td>2019.440121</td>\n",
       "    </tr>\n",
       "    <tr>\n",
       "      <th>997</th>\n",
       "      <td>sy9YaB1czZpyodpZom3FLw</td>\n",
       "      <td>marios-pizzeria-bronx</td>\n",
       "      <td>Mario's Pizzeria</td>\n",
       "      <td>https://s3-media2.fl.yelpcdn.com/bphoto/LuMzCY...</td>\n",
       "      <td>False</td>\n",
       "      <td>https://www.yelp.com/biz/marios-pizzeria-bronx...</td>\n",
       "      <td>26</td>\n",
       "      <td>[{'alias': 'pizza', 'title': 'Pizza'}]</td>\n",
       "      <td>4.0</td>\n",
       "      <td>{'latitude': 40.88864, 'longitude': -73.83104}</td>\n",
       "      <td>[pickup, delivery]</td>\n",
       "      <td>$</td>\n",
       "      <td>{'address1': '3824 Dyre Ave', 'address2': '', ...</td>\n",
       "      <td>+17183258770</td>\n",
       "      <td>(718) 325-8770</td>\n",
       "      <td>23738.050129</td>\n",
       "    </tr>\n",
       "    <tr>\n",
       "      <th>998</th>\n",
       "      <td>b9Qd4jaxugk7Zo7LE_lLrg</td>\n",
       "      <td>oddfellows-ice-cream-co-brooklyn-7</td>\n",
       "      <td>OddFellows Ice Cream Co.</td>\n",
       "      <td>https://s3-media2.fl.yelpcdn.com/bphoto/mo3hBD...</td>\n",
       "      <td>False</td>\n",
       "      <td>https://www.yelp.com/biz/oddfellows-ice-cream-...</td>\n",
       "      <td>134</td>\n",
       "      <td>[{'alias': 'icecream', 'title': 'Ice Cream &amp; F...</td>\n",
       "      <td>4.5</td>\n",
       "      <td>{'latitude': 40.70325596349647, 'longitude': -...</td>\n",
       "      <td>[pickup, delivery]</td>\n",
       "      <td>$$</td>\n",
       "      <td>{'address1': '44 Water St', 'address2': '', 'a...</td>\n",
       "      <td>+17186835755</td>\n",
       "      <td>(718) 683-5755</td>\n",
       "      <td>1187.666496</td>\n",
       "    </tr>\n",
       "    <tr>\n",
       "      <th>999</th>\n",
       "      <td>eQdjZQaLnjItmn9suEEeIA</td>\n",
       "      <td>patricias-bronx</td>\n",
       "      <td>Patricia's</td>\n",
       "      <td>https://s3-media3.fl.yelpcdn.com/bphoto/PygasA...</td>\n",
       "      <td>False</td>\n",
       "      <td>https://www.yelp.com/biz/patricias-bronx?adjus...</td>\n",
       "      <td>605</td>\n",
       "      <td>[{'alias': 'pizza', 'title': 'Pizza'}, {'alias...</td>\n",
       "      <td>4.0</td>\n",
       "      <td>{'latitude': 40.84912, 'longitude': -73.8533099}</td>\n",
       "      <td>[pickup, delivery]</td>\n",
       "      <td>$$</td>\n",
       "      <td>{'address1': '1082 Morris Park Ave', 'address2...</td>\n",
       "      <td>+17184099069</td>\n",
       "      <td>(718) 409-9069</td>\n",
       "      <td>19031.665993</td>\n",
       "    </tr>\n",
       "  </tbody>\n",
       "</table>\n",
       "</div>"
      ],
      "text/plain": [
       "                         id                               alias  \\\n",
       "995  aXuBZ6tBe93MHNtEIWNDCQ            calabria-pizza-oradell-2   \n",
       "996  qs5x7OfTtpgQ4xQeN7N4Iw          saraghina-caffè-brooklyn-2   \n",
       "997  sy9YaB1czZpyodpZom3FLw               marios-pizzeria-bronx   \n",
       "998  b9Qd4jaxugk7Zo7LE_lLrg  oddfellows-ice-cream-co-brooklyn-7   \n",
       "999  eQdjZQaLnjItmn9suEEeIA                     patricias-bronx   \n",
       "\n",
       "                         name  \\\n",
       "995            Calabria Pizza   \n",
       "996           Saraghina Caffè   \n",
       "997          Mario's Pizzeria   \n",
       "998  OddFellows Ice Cream Co.   \n",
       "999                Patricia's   \n",
       "\n",
       "                                             image_url  is_closed  \\\n",
       "995  https://s3-media3.fl.yelpcdn.com/bphoto/5V7YbI...      False   \n",
       "996  https://s3-media1.fl.yelpcdn.com/bphoto/a2qEDF...      False   \n",
       "997  https://s3-media2.fl.yelpcdn.com/bphoto/LuMzCY...      False   \n",
       "998  https://s3-media2.fl.yelpcdn.com/bphoto/mo3hBD...      False   \n",
       "999  https://s3-media3.fl.yelpcdn.com/bphoto/PygasA...      False   \n",
       "\n",
       "                                                   url  review_count  \\\n",
       "995  https://www.yelp.com/biz/calabria-pizza-oradel...           124   \n",
       "996  https://www.yelp.com/biz/saraghina-caff%C3%A8-...            46   \n",
       "997  https://www.yelp.com/biz/marios-pizzeria-bronx...            26   \n",
       "998  https://www.yelp.com/biz/oddfellows-ice-cream-...           134   \n",
       "999  https://www.yelp.com/biz/patricias-bronx?adjus...           605   \n",
       "\n",
       "                                            categories  rating  \\\n",
       "995  [{'alias': 'pizza', 'title': 'Pizza'}, {'alias...     4.0   \n",
       "996  [{'alias': 'italian', 'title': 'Italian'}, {'a...     3.0   \n",
       "997             [{'alias': 'pizza', 'title': 'Pizza'}]     4.0   \n",
       "998  [{'alias': 'icecream', 'title': 'Ice Cream & F...     4.5   \n",
       "999  [{'alias': 'pizza', 'title': 'Pizza'}, {'alias...     4.0   \n",
       "\n",
       "                                           coordinates        transactions  \\\n",
       "995  {'latitude': 40.948291, 'longitude': -74.0321582}  [pickup, delivery]   \n",
       "996  {'latitude': 40.6897188, 'longitude': -73.9719...                  []   \n",
       "997     {'latitude': 40.88864, 'longitude': -73.83104}  [pickup, delivery]   \n",
       "998  {'latitude': 40.70325596349647, 'longitude': -...  [pickup, delivery]   \n",
       "999   {'latitude': 40.84912, 'longitude': -73.8533099}  [pickup, delivery]   \n",
       "\n",
       "    price                                           location         phone  \\\n",
       "995     $  {'address1': '239 Kinderkamack Rd', 'address2'...  +12015239228   \n",
       "996   NaN  {'address1': '195 DeKalb Ave, Brooklyn, NY 112...  +17183274224   \n",
       "997     $  {'address1': '3824 Dyre Ave', 'address2': '', ...  +17183258770   \n",
       "998    $$  {'address1': '44 Water St', 'address2': '', 'a...  +17186835755   \n",
       "999    $$  {'address1': '1082 Morris Park Ave', 'address2...  +17184099069   \n",
       "\n",
       "      display_phone      distance  \n",
       "995  (201) 523-9228  27200.412919  \n",
       "996  (718) 327-4224   2019.440121  \n",
       "997  (718) 325-8770  23738.050129  \n",
       "998  (718) 683-5755   1187.666496  \n",
       "999  (718) 409-9069  19031.665993  "
      ]
     },
     "metadata": {},
     "output_type": "display_data"
    }
   ],
   "source": [
    "# load final results\n",
    "final_df = pd.read_json(JSON_FILE)\n",
    "display(final_df.head(), final_df.tail())"
   ]
  },
  {
   "cell_type": "markdown",
   "id": "40f39509",
   "metadata": {},
   "source": [
    "-   Because our yelp results include columns that contain lists, we cannot check every column in dataframe for duplicates.\n",
    "-   Instead, we can use the subset argument for df.duplicated() and df.drop_duplicates() to only check the id column for duplicates."
   ]
  },
  {
   "cell_type": "code",
   "execution_count": 19,
   "id": "ad5c248a",
   "metadata": {},
   "outputs": [
    {
     "ename": "TypeError",
     "evalue": "unhashable type: 'list'",
     "output_type": "error",
     "traceback": [
      "\u001b[1;31m---------------------------------------------------------------------------\u001b[0m",
      "\u001b[1;31mTypeError\u001b[0m                                 Traceback (most recent call last)",
      "Cell \u001b[1;32mIn [19], line 2\u001b[0m\n\u001b[0;32m      1\u001b[0m \u001b[38;5;66;03m# check for duplicate results\u001b[39;00m\n\u001b[1;32m----> 2\u001b[0m \u001b[43mfinal_df\u001b[49m\u001b[38;5;241;43m.\u001b[39;49m\u001b[43mduplicated\u001b[49m\u001b[43m(\u001b[49m\u001b[43m)\u001b[49m\u001b[38;5;241m.\u001b[39msum()\n",
      "File \u001b[1;32m~\\anaconda3\\envs\\dojo-env\\lib\\site-packages\\pandas\\core\\frame.py:6811\u001b[0m, in \u001b[0;36mDataFrame.duplicated\u001b[1;34m(self, subset, keep)\u001b[0m\n\u001b[0;32m   6809\u001b[0m \u001b[38;5;28;01melse\u001b[39;00m:\n\u001b[0;32m   6810\u001b[0m     vals \u001b[38;5;241m=\u001b[39m (col\u001b[38;5;241m.\u001b[39mvalues \u001b[38;5;28;01mfor\u001b[39;00m name, col \u001b[38;5;129;01min\u001b[39;00m \u001b[38;5;28mself\u001b[39m\u001b[38;5;241m.\u001b[39mitems() \u001b[38;5;28;01mif\u001b[39;00m name \u001b[38;5;129;01min\u001b[39;00m subset)\n\u001b[1;32m-> 6811\u001b[0m     labels, shape \u001b[38;5;241m=\u001b[39m \u001b[38;5;28mmap\u001b[39m(\u001b[38;5;28mlist\u001b[39m, \u001b[38;5;28;43mzip\u001b[39;49m\u001b[43m(\u001b[49m\u001b[38;5;241;43m*\u001b[39;49m\u001b[38;5;28;43mmap\u001b[39;49m\u001b[43m(\u001b[49m\u001b[43mf\u001b[49m\u001b[43m,\u001b[49m\u001b[43m \u001b[49m\u001b[43mvals\u001b[49m\u001b[43m)\u001b[49m\u001b[43m)\u001b[49m)\n\u001b[0;32m   6813\u001b[0m     ids \u001b[38;5;241m=\u001b[39m get_group_index(\n\u001b[0;32m   6814\u001b[0m         labels,\n\u001b[0;32m   6815\u001b[0m         \u001b[38;5;66;03m# error: Argument 1 to \"tuple\" has incompatible type \"List[_T]\";\u001b[39;00m\n\u001b[1;32m   (...)\u001b[0m\n\u001b[0;32m   6819\u001b[0m         xnull\u001b[38;5;241m=\u001b[39m\u001b[38;5;28;01mFalse\u001b[39;00m,\n\u001b[0;32m   6820\u001b[0m     )\n\u001b[0;32m   6821\u001b[0m     result \u001b[38;5;241m=\u001b[39m \u001b[38;5;28mself\u001b[39m\u001b[38;5;241m.\u001b[39m_constructor_sliced(duplicated(ids, keep), index\u001b[38;5;241m=\u001b[39m\u001b[38;5;28mself\u001b[39m\u001b[38;5;241m.\u001b[39mindex)\n",
      "File \u001b[1;32m~\\anaconda3\\envs\\dojo-env\\lib\\site-packages\\pandas\\core\\frame.py:6779\u001b[0m, in \u001b[0;36mDataFrame.duplicated.<locals>.f\u001b[1;34m(vals)\u001b[0m\n\u001b[0;32m   6778\u001b[0m \u001b[38;5;28;01mdef\u001b[39;00m \u001b[38;5;21mf\u001b[39m(vals) \u001b[38;5;241m-\u001b[39m\u001b[38;5;241m>\u001b[39m \u001b[38;5;28mtuple\u001b[39m[np\u001b[38;5;241m.\u001b[39mndarray, \u001b[38;5;28mint\u001b[39m]:\n\u001b[1;32m-> 6779\u001b[0m     labels, shape \u001b[38;5;241m=\u001b[39m \u001b[43malgorithms\u001b[49m\u001b[38;5;241;43m.\u001b[39;49m\u001b[43mfactorize\u001b[49m\u001b[43m(\u001b[49m\u001b[43mvals\u001b[49m\u001b[43m,\u001b[49m\u001b[43m \u001b[49m\u001b[43msize_hint\u001b[49m\u001b[38;5;241;43m=\u001b[39;49m\u001b[38;5;28;43mlen\u001b[39;49m\u001b[43m(\u001b[49m\u001b[38;5;28;43mself\u001b[39;49m\u001b[43m)\u001b[49m\u001b[43m)\u001b[49m\n\u001b[0;32m   6780\u001b[0m     \u001b[38;5;28;01mreturn\u001b[39;00m labels\u001b[38;5;241m.\u001b[39mastype(\u001b[38;5;124m\"\u001b[39m\u001b[38;5;124mi8\u001b[39m\u001b[38;5;124m\"\u001b[39m, copy\u001b[38;5;241m=\u001b[39m\u001b[38;5;28;01mFalse\u001b[39;00m), \u001b[38;5;28mlen\u001b[39m(shape)\n",
      "File \u001b[1;32m~\\anaconda3\\envs\\dojo-env\\lib\\site-packages\\pandas\\core\\algorithms.py:818\u001b[0m, in \u001b[0;36mfactorize\u001b[1;34m(values, sort, na_sentinel, use_na_sentinel, size_hint)\u001b[0m\n\u001b[0;32m    815\u001b[0m             \u001b[38;5;66;03m# Don't modify (potentially user-provided) array\u001b[39;00m\n\u001b[0;32m    816\u001b[0m             values \u001b[38;5;241m=\u001b[39m np\u001b[38;5;241m.\u001b[39mwhere(null_mask, na_value, values)\n\u001b[1;32m--> 818\u001b[0m     codes, uniques \u001b[38;5;241m=\u001b[39m \u001b[43mfactorize_array\u001b[49m\u001b[43m(\u001b[49m\n\u001b[0;32m    819\u001b[0m \u001b[43m        \u001b[49m\u001b[43mvalues\u001b[49m\u001b[43m,\u001b[49m\n\u001b[0;32m    820\u001b[0m \u001b[43m        \u001b[49m\u001b[43mna_sentinel\u001b[49m\u001b[38;5;241;43m=\u001b[39;49m\u001b[43mna_sentinel_arg\u001b[49m\u001b[43m,\u001b[49m\n\u001b[0;32m    821\u001b[0m \u001b[43m        \u001b[49m\u001b[43msize_hint\u001b[49m\u001b[38;5;241;43m=\u001b[39;49m\u001b[43msize_hint\u001b[49m\u001b[43m,\u001b[49m\n\u001b[0;32m    822\u001b[0m \u001b[43m    \u001b[49m\u001b[43m)\u001b[49m\n\u001b[0;32m    824\u001b[0m \u001b[38;5;28;01mif\u001b[39;00m sort \u001b[38;5;129;01mand\u001b[39;00m \u001b[38;5;28mlen\u001b[39m(uniques) \u001b[38;5;241m>\u001b[39m \u001b[38;5;241m0\u001b[39m:\n\u001b[0;32m    825\u001b[0m     \u001b[38;5;28;01mif\u001b[39;00m na_sentinel \u001b[38;5;129;01mis\u001b[39;00m \u001b[38;5;28;01mNone\u001b[39;00m:\n\u001b[0;32m    826\u001b[0m         \u001b[38;5;66;03m# TODO: Can remove when na_sentinel=na_sentinel as in TODO above\u001b[39;00m\n",
      "File \u001b[1;32m~\\anaconda3\\envs\\dojo-env\\lib\\site-packages\\pandas\\core\\algorithms.py:574\u001b[0m, in \u001b[0;36mfactorize_array\u001b[1;34m(values, na_sentinel, size_hint, na_value, mask)\u001b[0m\n\u001b[0;32m    571\u001b[0m hash_klass, values \u001b[38;5;241m=\u001b[39m _get_hashtable_algo(values)\n\u001b[0;32m    573\u001b[0m table \u001b[38;5;241m=\u001b[39m hash_klass(size_hint \u001b[38;5;129;01mor\u001b[39;00m \u001b[38;5;28mlen\u001b[39m(values))\n\u001b[1;32m--> 574\u001b[0m uniques, codes \u001b[38;5;241m=\u001b[39m \u001b[43mtable\u001b[49m\u001b[38;5;241;43m.\u001b[39;49m\u001b[43mfactorize\u001b[49m\u001b[43m(\u001b[49m\n\u001b[0;32m    575\u001b[0m \u001b[43m    \u001b[49m\u001b[43mvalues\u001b[49m\u001b[43m,\u001b[49m\n\u001b[0;32m    576\u001b[0m \u001b[43m    \u001b[49m\u001b[43mna_sentinel\u001b[49m\u001b[38;5;241;43m=\u001b[39;49m\u001b[43mna_sentinel\u001b[49m\u001b[43m,\u001b[49m\n\u001b[0;32m    577\u001b[0m \u001b[43m    \u001b[49m\u001b[43mna_value\u001b[49m\u001b[38;5;241;43m=\u001b[39;49m\u001b[43mna_value\u001b[49m\u001b[43m,\u001b[49m\n\u001b[0;32m    578\u001b[0m \u001b[43m    \u001b[49m\u001b[43mmask\u001b[49m\u001b[38;5;241;43m=\u001b[39;49m\u001b[43mmask\u001b[49m\u001b[43m,\u001b[49m\n\u001b[0;32m    579\u001b[0m \u001b[43m    \u001b[49m\u001b[43mignore_na\u001b[49m\u001b[38;5;241;43m=\u001b[39;49m\u001b[43mignore_na\u001b[49m\u001b[43m,\u001b[49m\n\u001b[0;32m    580\u001b[0m \u001b[43m\u001b[49m\u001b[43m)\u001b[49m\n\u001b[0;32m    582\u001b[0m \u001b[38;5;66;03m# re-cast e.g. i8->dt64/td64, uint8->bool\u001b[39;00m\n\u001b[0;32m    583\u001b[0m uniques \u001b[38;5;241m=\u001b[39m _reconstruct_data(uniques, original\u001b[38;5;241m.\u001b[39mdtype, original)\n",
      "File \u001b[1;32mpandas\\_libs\\hashtable_class_helper.pxi:5943\u001b[0m, in \u001b[0;36mpandas._libs.hashtable.PyObjectHashTable.factorize\u001b[1;34m()\u001b[0m\n",
      "File \u001b[1;32mpandas\\_libs\\hashtable_class_helper.pxi:5857\u001b[0m, in \u001b[0;36mpandas._libs.hashtable.PyObjectHashTable._unique\u001b[1;34m()\u001b[0m\n",
      "\u001b[1;31mTypeError\u001b[0m: unhashable type: 'list'"
     ]
    }
   ],
   "source": [
    "# check for duplicate results\n",
    "final_df.duplicated().sum()"
   ]
  },
  {
   "cell_type": "code",
   "execution_count": 20,
   "id": "3ebc7cf5",
   "metadata": {},
   "outputs": [
    {
     "data": {
      "text/plain": [
       "220"
      ]
     },
     "execution_count": 20,
     "metadata": {},
     "output_type": "execute_result"
    }
   ],
   "source": [
    "# check for duplicate ID's \n",
    "final_df.duplicated(subset='id').sum()"
   ]
  },
  {
   "cell_type": "code",
   "execution_count": 21,
   "id": "46ea3d8d",
   "metadata": {},
   "outputs": [
    {
     "data": {
      "text/plain": [
       "0"
      ]
     },
     "execution_count": 21,
     "metadata": {},
     "output_type": "execute_result"
    }
   ],
   "source": [
    "## Drop duplicate ids and confirm there are no more duplicates\n",
    "final_df = final_df.drop_duplicates(subset='id')\n",
    "final_df.duplicated(subset='id').sum()"
   ]
  },
  {
   "cell_type": "code",
   "execution_count": 22,
   "id": "84623bee",
   "metadata": {},
   "outputs": [],
   "source": [
    "# save the final results to a compressed csv\n",
    "final_df.to_csv('Data/final_results_NY_pizza.csv.gz', compression='gzip',index=False)"
   ]
  }
 ],
 "metadata": {
  "kernelspec": {
   "display_name": "Python (dojo-env)",
   "language": "python",
   "name": "dojo-env"
  },
  "language_info": {
   "codemirror_mode": {
    "name": "ipython",
    "version": 3
   },
   "file_extension": ".py",
   "mimetype": "text/x-python",
   "name": "python",
   "nbconvert_exporter": "python",
   "pygments_lexer": "ipython3",
   "version": "3.9.15"
  },
  "toc": {
   "base_numbering": 1,
   "nav_menu": {},
   "number_sections": false,
   "sideBar": true,
   "skip_h1_title": false,
   "title_cell": "Table of Contents",
   "title_sidebar": "Contents",
   "toc_cell": false,
   "toc_position": {},
   "toc_section_display": true,
   "toc_window_display": false
  }
 },
 "nbformat": 4,
 "nbformat_minor": 5
}
